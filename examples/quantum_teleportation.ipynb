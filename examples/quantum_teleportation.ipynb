{
 "cells": [
  {
   "cell_type": "markdown",
   "metadata": {},
   "source": [
    "# Quantum Teleportation"
   ]
  },
  {
   "cell_type": "code",
   "execution_count": 5,
   "metadata": {},
   "outputs": [],
   "source": [
    "using QuantumInformation\n",
    "using StatsBase"
   ]
  },
  {
   "cell_type": "code",
   "execution_count": 6,
   "metadata": {},
   "outputs": [
    {
     "data": {
      "text/plain": [
       "measure"
      ]
     },
     "execution_count": 6,
     "metadata": {},
     "output_type": "execute_result"
    }
   ],
   "source": [
    "\"Projective measurement with standard basis\"\n",
    "function measure(state, n)\n",
    "    nqubit = state.basis |> length |> log2 |> Int\n",
    "    mops = [identityoperator(SpinBasis(1//2)) for i in 1:nqubit]\n",
    "    mops[n] = spinup(SpinBasis(1//2)) |> dm |> sparse\n",
    "    mop = tensor(mops...)\n",
    "    p = real( trace( mop * dm(state) ) )\n",
    "\n",
    "    wv = pweights([p, 1-p])\n",
    "    outcome = sample(0:1, wv)\n",
    "    if outcome == 0\n",
    "        state = mop * state / sqrt(p) \n",
    "    else\n",
    "        mops[n] = spindown(SpinBasis(1//2)) |> dm |> sparse\n",
    "        mop = tensor(mops...)\n",
    "        state = mop * state / sqrt(1-p)\n",
    "    end\n",
    "    return outcome, state\n",
    "end"
   ]
  },
  {
   "cell_type": "markdown",
   "metadata": {},
   "source": [
    "# Circuit of Quantum Teleportation\n",
    "\n",
    "![teleport](./teleport.png)"
   ]
  },
  {
   "cell_type": "code",
   "execution_count": 7,
   "metadata": {},
   "outputs": [
    {
     "name": "stdout",
     "output_type": "stream",
     "text": [
      "Initial state\n",
      "ψ = α * spinup(basis) + β * spindown(basis) = Ket(dim=2)\n",
      "  basis: Spin(1/2)\n",
      "      0.5+0.0im\n",
      " 0.866025+0.0im\n",
      "\n",
      "Before applying X and Z gates\n",
      "finstate = DenseOperator(dim=2x2)\n",
      "  basis: Spin(1/2)\n",
      "      0.25+0.0im  -0.433013+0.0im\n",
      " -0.433013+0.0im       0.75+0.0im\n",
      "\n",
      "Measurement outcome\n",
      "(outcome1, outcome2) = (1, 0)\n",
      "\n",
      "Initial state |ψ><ψ|\n",
      "dm(ψ) = DenseOperator(dim=2x2)\n",
      "  basis: Spin(1/2)\n",
      "     0.25+0.0im  0.433013+0.0im\n",
      " 0.433013+0.0im      0.75+0.0im\n",
      "\n",
      "Teleported state\n",
      "finstate = DenseOperator(dim=2x2)\n",
      "  basis: Spin(1/2)\n",
      "     0.25+0.0im  0.433013+0.0im\n",
      " 0.433013+0.0im      0.75+0.0im\n",
      "\n",
      "Can we teleport quantum state?: true\n"
     ]
    }
   ],
   "source": [
    "basis = SpinBasis(1//2)\n",
    "θ = π / 3 \n",
    "α, β = cos(θ), sin(θ)\n",
    "id = identityoperator(basis)\n",
    "\n",
    "println(\"Initial state\")\n",
    "@show ψ = α * spinup(basis) + β * spindown(basis)\n",
    "states = ψ ⊗ spinup(basis) ⊗ spinup(basis)\n",
    "\n",
    "states = (id ⊗ hadamard() ⊗ id) * states\n",
    "states = (id ⊗ cnot()) * states\n",
    "states = (cnot() ⊗ id) * states\n",
    "states = (hadamard() ⊗ id ⊗ id) * states\n",
    "outcome1, states = measure(states, 1)\n",
    "outcome2, states = measure(states, 2)\n",
    "finstate = ptrace(states, [1, 2]) # density operator\n",
    "\n",
    "println(\"\\nBefore applying X and Z gates\")\n",
    "@show finstate\n",
    "\n",
    "finstate = sigmaz()^outcome1 * sigmax()^outcome2 * finstate * sigmax()^outcome2 * sigmaz()^outcome1\n",
    "\n",
    "println(\"\\nMeasurement outcome\")\n",
    "@show outcome1, outcome2\n",
    "\n",
    "println(\"\\nInitial state |ψ><ψ|\")\n",
    "@show dm(ψ)\n",
    "\n",
    "println(\"\\nTeleported state\")\n",
    "@show finstate\n",
    "\n",
    "println(\"\\nCan we teleport quantum state?: \", dm(ψ).data ≈ finstate.data)"
   ]
  },
  {
   "cell_type": "code",
   "execution_count": 8,
   "metadata": {},
   "outputs": [
    {
     "name": "stdout",
     "output_type": "stream",
     "text": [
      "Julia Version 0.6.2\n",
      "Commit d386e40 (2017-12-13 18:08 UTC)\n",
      "Platform Info:\n",
      "  OS: Linux (x86_64-pc-linux-gnu)\n",
      "  CPU: Intel(R) Xeon(R) CPU           E5645  @ 2.40GHz\n",
      "  WORD_SIZE: 64\n",
      "  BLAS: libopenblas (DYNAMIC_ARCH NO_AFFINITY Nehalem)\n",
      "  LAPACK: libopenblas\n",
      "  LIBM: libm\n",
      "  LLVM: libLLVM-3.9.1 (ORCJIT, westmere)\n"
     ]
    }
   ],
   "source": [
    "versioninfo()"
   ]
  }
 ],
 "metadata": {
  "kernelspec": {
   "display_name": "Julia 0.6.2",
   "language": "julia",
   "name": "julia-0.6"
  },
  "language_info": {
   "file_extension": ".jl",
   "mimetype": "application/julia",
   "name": "julia",
   "version": "0.6.2"
  },
  "toc": {
   "nav_menu": {},
   "number_sections": true,
   "sideBar": true,
   "skip_h1_title": false,
   "toc_cell": false,
   "toc_position": {},
   "toc_section_display": "block",
   "toc_window_display": false
  }
 },
 "nbformat": 4,
 "nbformat_minor": 2
}
