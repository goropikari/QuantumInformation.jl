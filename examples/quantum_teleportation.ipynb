{
 "cells": [
  {
   "cell_type": "markdown",
   "metadata": {},
   "source": [
    "# Quantum Teleportation"
   ]
  },
  {
   "cell_type": "code",
   "execution_count": 1,
   "metadata": {
    "run_control": {
     "marked": false
    }
   },
   "outputs": [],
   "source": [
    "using QuantumInformation.ShortNames"
   ]
  },
  {
   "cell_type": "markdown",
   "metadata": {},
   "source": [
    "# Circuit of Quantum Teleportation\n",
    "\n",
    "![teleport](./teleport.png)"
   ]
  },
  {
   "cell_type": "code",
   "execution_count": 2,
   "metadata": {},
   "outputs": [
    {
     "name": "stdout",
     "output_type": "stream",
     "text": [
      "Initial state\n"
     ]
    },
    {
     "data": {
      "text/latex": [
       "$| \\psi \\rangle = 0.5 | 000 \\rangle+0.866 | 100 \\rangle$"
      ]
     },
     "metadata": {},
     "output_type": "display_data"
    },
    {
     "name": "stdout",
     "output_type": "stream",
     "text": [
      "ψ = α * qubit(\"0\") + β * qubit(\"1\") = Ket(dim=2)\n",
      "  basis: Spin(1/2)\n",
      "      0.5+0.0im\n",
      " 0.866025+0.0im\n"
     ]
    }
   ],
   "source": [
    "θ = π / 3 \n",
    "α, β = cos(θ), sin(θ)\n",
    "\n",
    "println(\"Initial state\")\n",
    "@show ψ = α * qubit(\"0\") + β * qubit(\"1\")\n",
    "state = ψ ⊗ qubit(\"00\")\n",
    "state |> tex"
   ]
  },
  {
   "cell_type": "code",
   "execution_count": 3,
   "metadata": {},
   "outputs": [
    {
     "data": {
      "text/latex": [
       "$| \\psi \\rangle = 0.354 | 000 \\rangle+0.354 | 010 \\rangle+0.612 | 100 \\rangle+0.612 | 110 \\rangle$"
      ]
     },
     "metadata": {},
     "output_type": "display_data"
    }
   ],
   "source": [
    "state = (id() ⊗ H() ⊗ id()) * state\n",
    "state |> tex"
   ]
  },
  {
   "cell_type": "code",
   "execution_count": 4,
   "metadata": {},
   "outputs": [
    {
     "data": {
      "text/latex": [
       "$| \\psi \\rangle = 0.354 | 000 \\rangle+0.354 | 011 \\rangle+0.612 | 100 \\rangle+0.612 | 111 \\rangle$"
      ]
     },
     "metadata": {},
     "output_type": "display_data"
    }
   ],
   "source": [
    "state = (id() ⊗ cnot()) * state\n",
    "state |> tex"
   ]
  },
  {
   "cell_type": "code",
   "execution_count": 5,
   "metadata": {},
   "outputs": [
    {
     "data": {
      "text/latex": [
       "$| \\psi \\rangle = 0.354 | 000 \\rangle+0.354 | 011 \\rangle+0.612 | 101 \\rangle+0.612 | 110 \\rangle$"
      ]
     },
     "metadata": {},
     "output_type": "display_data"
    }
   ],
   "source": [
    "state = (cnot() ⊗ id()) * state\n",
    "state |> tex"
   ]
  },
  {
   "cell_type": "code",
   "execution_count": 6,
   "metadata": {},
   "outputs": [
    {
     "data": {
      "text/latex": [
       "$| \\psi \\rangle = 0.25 | 000 \\rangle+0.433 | 001 \\rangle+0.433 | 010 \\rangle+0.25 | 011 \\rangle+0.25 | 100 \\rangle-0.433 | 101 \\rangle-0.433 | 110 \\rangle+0.25 | 111 \\rangle$"
      ]
     },
     "metadata": {},
     "output_type": "display_data"
    }
   ],
   "source": [
    "state = (H() ⊗ id(2)) * state\n",
    "state |> tex"
   ]
  },
  {
   "cell_type": "code",
   "execution_count": 7,
   "metadata": {},
   "outputs": [
    {
     "data": {
      "text/latex": [
       "$| \\psi \\rangle = 0.354 | 000 \\rangle+0.612 | 001 \\rangle+0.612 | 010 \\rangle+0.354 | 011 \\rangle$"
      ]
     },
     "metadata": {},
     "output_type": "display_data"
    }
   ],
   "source": [
    "outcome1, state = measure(state, 1)\n",
    "state |> tex"
   ]
  },
  {
   "cell_type": "code",
   "execution_count": 8,
   "metadata": {},
   "outputs": [
    {
     "data": {
      "text/latex": [
       "$| \\psi \\rangle = 0.866 | 010 \\rangle+0.5 | 011 \\rangle$"
      ]
     },
     "metadata": {},
     "output_type": "display_data"
    }
   ],
   "source": [
    "outcome2, state = measure(state, 2)\n",
    "state |> tex"
   ]
  },
  {
   "cell_type": "code",
   "execution_count": 9,
   "metadata": {},
   "outputs": [
    {
     "name": "stdout",
     "output_type": "stream",
     "text": [
      "\n",
      "Before applying X and Z gates\n"
     ]
    },
    {
     "data": {
      "text/latex": [
       "$\\mathrm{Operator} = 0.75 | 0 \\rangle \\langle 0 |+0.433 | 0 \\rangle \\langle 1 |+0.433 | 1 \\rangle \\langle 0 |+0.25 | 1 \\rangle \\langle 1 |$"
      ]
     },
     "metadata": {},
     "output_type": "display_data"
    },
    {
     "name": "stdout",
     "output_type": "stream",
     "text": [
      "finstate = DenseOperator(dim=2x2)\n",
      "  basis: Spin(1/2)\n",
      "     0.75+0.0im  0.433013+0.0im\n",
      " 0.433013+0.0im      0.25+0.0im\n"
     ]
    }
   ],
   "source": [
    "finstate = ptrace(state, [1, 2]) # density operator\n",
    "\n",
    "println(\"\\nBefore applying X and Z gates\")\n",
    "@show finstate\n",
    "finstate |> tex"
   ]
  },
  {
   "cell_type": "code",
   "execution_count": 10,
   "metadata": {},
   "outputs": [
    {
     "data": {
      "text/latex": [
       "$\\mathrm{Operator} = 0.25 | 0 \\rangle \\langle 0 |+0.433 | 0 \\rangle \\langle 1 |+0.433 | 1 \\rangle \\langle 0 |+0.75 | 1 \\rangle \\langle 1 |$"
      ]
     },
     "metadata": {},
     "output_type": "display_data"
    },
    {
     "name": "stdout",
     "output_type": "stream",
     "text": [
      "\n",
      "Measurement outcome\n",
      "(outcome1, outcome2) = (0, 1)\n",
      "\n",
      "Initial state |ψ><ψ|\n",
      "dm(ψ) = DenseOperator(dim=2x2)\n",
      "  basis: Spin(1/2)\n",
      "     0.25+0.0im  0.433013+0.0im\n",
      " 0.433013+0.0im      0.75+0.0im\n",
      "\n",
      "Teleported state\n",
      "finstate = DenseOperator(dim=2x2)\n",
      "  basis: Spin(1/2)\n",
      "     0.25+0.0im  0.433013+0.0im\n",
      " 0.433013+0.0im      0.75+0.0im\n",
      "\n",
      "Can we teleport quantum state?: true\n"
     ]
    }
   ],
   "source": [
    "finstate = Z()^outcome1 * X()^outcome2 * finstate * X()^outcome2 * Z()^outcome1\n",
    "\n",
    "println(\"\\nMeasurement outcome\")\n",
    "@show outcome1, outcome2\n",
    "\n",
    "println(\"\\nInitial state |ψ><ψ|\")\n",
    "@show dm(ψ)\n",
    "\n",
    "println(\"\\nTeleported state\")\n",
    "@show finstate\n",
    "finstate |> tex\n",
    "\n",
    "println(\"\\nCan we teleport quantum state?: \", dm(ψ) ≈ finstate)"
   ]
  },
  {
   "cell_type": "code",
   "execution_count": 11,
   "metadata": {},
   "outputs": [
    {
     "name": "stdout",
     "output_type": "stream",
     "text": [
      "Julia Version 0.6.2\n",
      "Commit d386e40 (2017-12-13 18:08 UTC)\n",
      "Platform Info:\n",
      "  OS: Linux (x86_64-pc-linux-gnu)\n",
      "  CPU: Intel(R) Xeon(R) CPU           E5645  @ 2.40GHz\n",
      "  WORD_SIZE: 64\n",
      "  BLAS: libopenblas (DYNAMIC_ARCH NO_AFFINITY Nehalem)\n",
      "  LAPACK: libopenblas\n",
      "  LIBM: libm\n",
      "  LLVM: libLLVM-3.9.1 (ORCJIT, westmere)\n"
     ]
    }
   ],
   "source": [
    "versioninfo()"
   ]
  }
 ],
 "metadata": {
  "kernelspec": {
   "display_name": "Julia 0.6.2",
   "language": "julia",
   "name": "julia-0.6"
  },
  "language_info": {
   "file_extension": ".jl",
   "mimetype": "application/julia",
   "name": "julia",
   "version": "0.6.2"
  },
  "toc": {
   "nav_menu": {},
   "number_sections": true,
   "sideBar": true,
   "skip_h1_title": false,
   "toc_cell": false,
   "toc_position": {},
   "toc_section_display": "block",
   "toc_window_display": false
  }
 },
 "nbformat": 4,
 "nbformat_minor": 2
}
