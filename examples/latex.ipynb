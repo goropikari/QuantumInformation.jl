{
 "cells": [
  {
   "cell_type": "code",
   "execution_count": 1,
   "metadata": {},
   "outputs": [],
   "source": [
    "using QuantumInformation.ShortNames"
   ]
  },
  {
   "cell_type": "code",
   "execution_count": 2,
   "metadata": {},
   "outputs": [
    {
     "data": {
      "text/plain": [
       "Ket(dim=4)\n",
       "  basis: [Spin(1/2) ⊗ Spin(1/2)]\n",
       " 0.707107+0.0im\n",
       "      0.0+0.0im\n",
       "      0.0+0.0im\n",
       " 0.707107+0.0im"
      ]
     },
     "execution_count": 2,
     "metadata": {},
     "output_type": "execute_result"
    }
   ],
   "source": [
    "ψ = cnot() * (H() ⊗ id()) * qubit(\"00\")"
   ]
  },
  {
   "cell_type": "code",
   "execution_count": 3,
   "metadata": {},
   "outputs": [
    {
     "data": {
      "text/latex": [
       "$| \\psi \\rangle = 0.707 | 00 \\rangle+0.707 | 11 \\rangle$"
      ]
     },
     "metadata": {},
     "output_type": "display_data"
    }
   ],
   "source": [
    "tex(ψ)"
   ]
  },
  {
   "cell_type": "code",
   "execution_count": 4,
   "metadata": {},
   "outputs": [
    {
     "data": {
      "text/plain": [
       "DenseOperator(dim=4x4)\n",
       "  basis: [Spin(1/2) ⊗ Spin(1/2)]\n",
       " 0.5+0.0im  0.0+0.0im  0.0+0.0im  0.5+0.0im\n",
       " 0.0+0.0im  0.0+0.0im  0.0+0.0im  0.0+0.0im\n",
       " 0.0+0.0im  0.0+0.0im  0.0+0.0im  0.0+0.0im\n",
       " 0.5+0.0im  0.0+0.0im  0.0+0.0im  0.5+0.0im"
      ]
     },
     "execution_count": 4,
     "metadata": {},
     "output_type": "execute_result"
    }
   ],
   "source": [
    "dm(ψ)"
   ]
  },
  {
   "cell_type": "code",
   "execution_count": 5,
   "metadata": {},
   "outputs": [
    {
     "data": {
      "text/latex": [
       "$\\rho_{AB} = 0.5 | 00 \\rangle \\langle 00 |+0.5 | 00 \\rangle \\langle 11 |+0.5 | 11 \\rangle \\langle 00 |+0.5 | 11 \\rangle \\langle 11 |$"
      ]
     },
     "metadata": {},
     "output_type": "display_data"
    }
   ],
   "source": [
    "tex(dm(ψ), \"\\\\rho_{AB}\")"
   ]
  },
  {
   "cell_type": "code",
   "execution_count": 6,
   "metadata": {},
   "outputs": [
    {
     "data": {
      "text/latex": [
       "$\\rho_A = 0.5 | 0 \\rangle \\langle 0 |+0.5 | 1 \\rangle \\langle 1 |$"
      ]
     },
     "metadata": {},
     "output_type": "display_data"
    }
   ],
   "source": [
    "tex(ptrace(dm(ψ), 1), \"\\\\rho_A\")"
   ]
  },
  {
   "cell_type": "code",
   "execution_count": 7,
   "metadata": {},
   "outputs": [
    {
     "data": {
      "text/latex": [
       "$\\mathrm{Operator} = | 01021 \\rangle \\langle 0212 |$"
      ]
     },
     "metadata": {},
     "output_type": "display_data"
    }
   ],
   "source": [
    "outer(qubit(\"010\") ⊗ qudit(\"21\", 4), quxit(\"0212\", [3,4,5,3])) |> tex"
   ]
  },
  {
   "cell_type": "code",
   "execution_count": 8,
   "metadata": {},
   "outputs": [
    {
     "name": "stdout",
     "output_type": "stream",
     "text": [
      "Julia Version 0.6.2\n",
      "Commit d386e40 (2017-12-13 18:08 UTC)\n",
      "Platform Info:\n",
      "  OS: Linux (x86_64-pc-linux-gnu)\n",
      "  CPU: Intel(R) Core(TM) i5-4460T CPU @ 1.90GHz\n",
      "  WORD_SIZE: 64\n",
      "  BLAS: libopenblas (DYNAMIC_ARCH NO_AFFINITY Haswell)\n",
      "  LAPACK: libopenblas\n",
      "  LIBM: libm\n",
      "  LLVM: libLLVM-3.9.1 (ORCJIT, haswell)\n"
     ]
    }
   ],
   "source": [
    "versioninfo()"
   ]
  }
 ],
 "metadata": {
  "kernelspec": {
   "display_name": "Julia 0.6.2",
   "language": "julia",
   "name": "julia-0.6"
  },
  "language_info": {
   "file_extension": ".jl",
   "mimetype": "application/julia",
   "name": "julia",
   "version": "0.6.2"
  },
  "toc": {
   "nav_menu": {},
   "number_sections": true,
   "sideBar": true,
   "skip_h1_title": false,
   "toc_cell": false,
   "toc_position": {},
   "toc_section_display": "block",
   "toc_window_display": false
  }
 },
 "nbformat": 4,
 "nbformat_minor": 2
}
